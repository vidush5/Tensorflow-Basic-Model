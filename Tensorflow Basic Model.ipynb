{
 "cells": [
  {
   "cell_type": "markdown",
   "metadata": {},
   "source": [
    "# Import the relevant libraries"
   ]
  },
  {
   "cell_type": "code",
   "execution_count": 1,
   "metadata": {},
   "outputs": [
    {
     "name": "stderr",
     "output_type": "stream",
     "text": [
      "c:\\python\\python37\\lib\\importlib\\_bootstrap.py:219: RuntimeWarning: numpy.ufunc size changed, may indicate binary incompatibility. Expected 192 from C header, got 216 from PyObject\n",
      "  return f(*args, **kwds)\n",
      "c:\\python\\python37\\lib\\importlib\\_bootstrap.py:219: RuntimeWarning: numpy.ufunc size changed, may indicate binary incompatibility. Expected 192 from C header, got 216 from PyObject\n",
      "  return f(*args, **kwds)\n",
      "c:\\python\\python37\\lib\\importlib\\_bootstrap.py:219: RuntimeWarning: numpy.ufunc size changed, may indicate binary incompatibility. Expected 192 from C header, got 216 from PyObject\n",
      "  return f(*args, **kwds)\n"
     ]
    }
   ],
   "source": [
    "import numpy as np\n",
    "import matplotlib.pyplot as plt\n",
    "import tensorflow as tf"
   ]
  },
  {
   "cell_type": "markdown",
   "metadata": {},
   "source": [
    "# Data generation"
   ]
  },
  {
   "cell_type": "code",
   "execution_count": 4,
   "metadata": {},
   "outputs": [],
   "source": [
    "observations = 1000\n",
    "\n",
    "xs = np.random.uniform(low=-10, high=10, size=(observations,1))\n",
    "zs = np.random.uniform(-10, 10, (obeservations, 1))\n",
    "\n",
    "generated_inputs = np.column_stack((xs, zs))\n",
    "\n",
    "noise = np.random.uniform(-1, 1, (obeservations,1))\n",
    "generated_targets = 2*xs - 3*zs + 5 + noise\n",
    "\n",
    "np.savez('TF-intro', inputs=generated_inputs, targets=generated_targets)"
   ]
  },
  {
   "cell_type": "markdown",
   "metadata": {},
   "source": [
    "# Solving with Tensorflow"
   ]
  },
  {
   "cell_type": "code",
   "execution_count": 10,
   "metadata": {},
   "outputs": [],
   "source": [
    "input_size = 2\n",
    "output_size = 1"
   ]
  },
  {
   "cell_type": "markdown",
   "metadata": {},
   "source": [
    "# Outlining the model "
   ]
  },
  {
   "cell_type": "code",
   "execution_count": 12,
   "metadata": {},
   "outputs": [
    {
     "name": "stdout",
     "output_type": "stream",
     "text": [
      "WARNING:tensorflow:From c:\\python\\python37\\lib\\site-packages\\tensorflow\\python\\framework\\op_def_library.py:263: colocate_with (from tensorflow.python.framework.ops) is deprecated and will be removed in a future version.\n",
      "Instructions for updating:\n",
      "Colocations handled automatically by placer.\n"
     ]
    }
   ],
   "source": [
    "inputs = tf.placeholder(tf.float32, [None, input_size])\n",
    "targets = tf.placeholder(tf.float32, [None, output_size]) \n",
    "\n",
    "weights = tf.Variable(tf.random_uniform([input_size,output_size], minval=-0.1, maxval=0.1))\n",
    "biases = tf.Variable(tf.random_uniform([output_size], minval=-0.1, maxval=0.1))\n",
    "\n",
    "\n",
    "outputs = tf.matmul(inputs, weights) + biases"
   ]
  },
  {
   "cell_type": "code",
   "execution_count": 13,
   "metadata": {},
   "outputs": [
    {
     "name": "stdout",
     "output_type": "stream",
     "text": [
      "WARNING:tensorflow:From c:\\python\\python37\\lib\\site-packages\\tensorflow\\python\\ops\\losses\\losses_impl.py:667: to_float (from tensorflow.python.ops.math_ops) is deprecated and will be removed in a future version.\n",
      "Instructions for updating:\n",
      "Use tf.cast instead.\n"
     ]
    }
   ],
   "source": [
    "mean_loss = tf.losses.mean_squared_error(labels=targets, predictions=outputs) / 2.\n",
    "\n",
    "optimize = tf.train.GradientDescentOptimizer(learning_rate=0.05).minimize(mean_loss)"
   ]
  },
  {
   "cell_type": "code",
   "execution_count": 14,
   "metadata": {},
   "outputs": [],
   "source": [
    "sess = tf.InteractiveSession()"
   ]
  },
  {
   "cell_type": "code",
   "execution_count": 15,
   "metadata": {},
   "outputs": [],
   "source": [
    "initializer = tf.global_variables_initializer()\n",
    "sess.run(initializer)"
   ]
  },
  {
   "cell_type": "code",
   "execution_count": 20,
   "metadata": {},
   "outputs": [],
   "source": [
    "training_data = np.load('C:\\\\Users\\\\Vidush\\\\TF-intro.npz')"
   ]
  },
  {
   "cell_type": "code",
   "execution_count": 22,
   "metadata": {},
   "outputs": [
    {
     "name": "stdout",
     "output_type": "stream",
     "text": [
      "229.64955\n",
      "120.44446\n",
      "65.80447\n",
      "37.932682\n",
      "23.368172\n",
      "15.519051\n",
      "11.117219\n",
      "8.52062\n",
      "6.8922462\n",
      "5.7987733\n",
      "5.01205\n",
      "4.4096327\n",
      "3.9243402\n",
      "3.5183067\n",
      "3.1694574\n",
      "2.8643665\n",
      "2.5944424\n",
      "2.3538609\n",
      "2.1384225\n",
      "1.944933\n",
      "1.7708323\n",
      "1.6139945\n",
      "1.472605\n",
      "1.3450837\n",
      "1.2300377\n",
      "1.1262262\n",
      "1.0325422\n",
      "0.94799185\n",
      "0.8716804\n",
      "0.80280393\n",
      "0.7406361\n",
      "0.6845237\n",
      "0.6338754\n",
      "0.58816063\n",
      "0.5468969\n",
      "0.50965136\n",
      "0.4760332\n",
      "0.44568864\n",
      "0.4182995\n",
      "0.3935771\n",
      "0.37126243\n",
      "0.3511202\n",
      "0.33293974\n",
      "0.31652942\n",
      "0.30171746\n",
      "0.28834754\n",
      "0.27627987\n",
      "0.26538706\n",
      "0.25555497\n",
      "0.24668054\n",
      "0.2386703\n",
      "0.23144001\n",
      "0.22491379\n",
      "0.21902308\n",
      "0.21370606\n",
      "0.20890677\n",
      "0.20457485\n",
      "0.20066473\n",
      "0.19713537\n",
      "0.19394973\n",
      "0.19107434\n",
      "0.18847883\n",
      "0.18613614\n",
      "0.18402149\n",
      "0.18211289\n",
      "0.1803901\n",
      "0.17883508\n",
      "0.17743146\n",
      "0.17616455\n",
      "0.17502102\n",
      "0.17398886\n",
      "0.1730572\n",
      "0.17221624\n",
      "0.17145714\n",
      "0.170772\n",
      "0.17015359\n",
      "0.16959544\n",
      "0.16909152\n",
      "0.1686368\n",
      "0.16822627\n",
      "0.16785577\n",
      "0.16752133\n",
      "0.16721946\n",
      "0.16694695\n",
      "0.16670099\n",
      "0.166479\n",
      "0.16627863\n",
      "0.16609776\n",
      "0.1659345\n",
      "0.16578719\n",
      "0.16565411\n",
      "0.16553406\n",
      "0.16542575\n",
      "0.16532789\n",
      "0.16523963\n",
      "0.16515993\n",
      "0.16508801\n",
      "0.1650231\n",
      "0.16496451\n",
      "0.16491155\n"
     ]
    }
   ],
   "source": [
    "for e in range (100):\n",
    "    _,curr_loss = sess.run([optimize, mean_loss], feed_dict={inputs: training_data['inputs'], targets: training_data['targets']})\n",
    "    \n",
    "    print(curr_loss)"
   ]
  },
  {
   "cell_type": "code",
   "execution_count": null,
   "metadata": {},
   "outputs": [],
   "source": []
  }
 ],
 "metadata": {
  "kernelspec": {
   "display_name": "Python 3",
   "language": "python",
   "name": "python3"
  },
  "language_info": {
   "codemirror_mode": {
    "name": "ipython",
    "version": 3
   },
   "file_extension": ".py",
   "mimetype": "text/x-python",
   "name": "python",
   "nbconvert_exporter": "python",
   "pygments_lexer": "ipython3",
   "version": "3.7.3"
  }
 },
 "nbformat": 4,
 "nbformat_minor": 2
}
